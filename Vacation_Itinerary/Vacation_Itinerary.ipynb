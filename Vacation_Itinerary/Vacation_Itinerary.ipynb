{
 "cells": [
  {
   "cell_type": "markdown",
   "metadata": {},
   "source": [
    "## Deliverable 3. Create a Travel Itinerary Map."
   ]
  },
  {
   "cell_type": "code",
   "execution_count": 1,
   "metadata": {},
   "outputs": [],
   "source": [
    "# Dependencies and Setup\n",
    "import pandas as pd\n",
    "import requests\n",
    "import gmaps\n",
    "import os\n",
    "\n",
    "from pathlib import Path\n",
    "\n",
    "# Import API key\n",
    "from config import g_key\n",
    "\n",
    "# Configure gmaps\n",
    "gmaps.configure(api_key=g_key)"
   ]
  },
  {
   "cell_type": "code",
   "execution_count": 2,
   "metadata": {},
   "outputs": [
    {
     "data": {
      "text/html": [
       "<div>\n",
       "<style scoped>\n",
       "    .dataframe tbody tr th:only-of-type {\n",
       "        vertical-align: middle;\n",
       "    }\n",
       "\n",
       "    .dataframe tbody tr th {\n",
       "        vertical-align: top;\n",
       "    }\n",
       "\n",
       "    .dataframe thead th {\n",
       "        text-align: right;\n",
       "    }\n",
       "</style>\n",
       "<table border=\"1\" class=\"dataframe\">\n",
       "  <thead>\n",
       "    <tr style=\"text-align: right;\">\n",
       "      <th></th>\n",
       "      <th>City_ID</th>\n",
       "      <th>City</th>\n",
       "      <th>Country</th>\n",
       "      <th>Max Temp</th>\n",
       "      <th>Description</th>\n",
       "      <th>Lat</th>\n",
       "      <th>Lng</th>\n",
       "      <th>Hotel Name</th>\n",
       "    </tr>\n",
       "  </thead>\n",
       "  <tbody>\n",
       "    <tr>\n",
       "      <th>0</th>\n",
       "      <td>3</td>\n",
       "      <td>Bluff</td>\n",
       "      <td>NZ</td>\n",
       "      <td>57.99</td>\n",
       "      <td>scattered clouds</td>\n",
       "      <td>-46.60</td>\n",
       "      <td>168.33</td>\n",
       "      <td>Bluff Homestead - Guesthouse &amp; Campervan Park</td>\n",
       "    </tr>\n",
       "    <tr>\n",
       "      <th>1</th>\n",
       "      <td>12</td>\n",
       "      <td>Ushuaia</td>\n",
       "      <td>AR</td>\n",
       "      <td>50.00</td>\n",
       "      <td>scattered clouds</td>\n",
       "      <td>-54.80</td>\n",
       "      <td>-68.30</td>\n",
       "      <td>Albatros Hotel</td>\n",
       "    </tr>\n",
       "    <tr>\n",
       "      <th>2</th>\n",
       "      <td>20</td>\n",
       "      <td>Mataura</td>\n",
       "      <td>NZ</td>\n",
       "      <td>57.99</td>\n",
       "      <td>scattered clouds</td>\n",
       "      <td>-46.19</td>\n",
       "      <td>168.86</td>\n",
       "      <td>Ellie's Villa</td>\n",
       "    </tr>\n",
       "    <tr>\n",
       "      <th>3</th>\n",
       "      <td>36</td>\n",
       "      <td>Coueron</td>\n",
       "      <td>FR</td>\n",
       "      <td>51.01</td>\n",
       "      <td>overcast clouds</td>\n",
       "      <td>47.22</td>\n",
       "      <td>-1.72</td>\n",
       "      <td>ibis budget Nantes Ouest Atlantis Couëron</td>\n",
       "    </tr>\n",
       "    <tr>\n",
       "      <th>4</th>\n",
       "      <td>48</td>\n",
       "      <td>Roma</td>\n",
       "      <td>US</td>\n",
       "      <td>53.60</td>\n",
       "      <td>overcast clouds</td>\n",
       "      <td>43.21</td>\n",
       "      <td>-75.46</td>\n",
       "      <td>Wingate By Wyndham Rome</td>\n",
       "    </tr>\n",
       "  </tbody>\n",
       "</table>\n",
       "</div>"
      ],
      "text/plain": [
       "   City_ID     City Country  Max Temp       Description    Lat     Lng  \\\n",
       "0        3    Bluff      NZ     57.99  scattered clouds -46.60  168.33   \n",
       "1       12  Ushuaia      AR     50.00  scattered clouds -54.80  -68.30   \n",
       "2       20  Mataura      NZ     57.99  scattered clouds -46.19  168.86   \n",
       "3       36  Coueron      FR     51.01   overcast clouds  47.22   -1.72   \n",
       "4       48     Roma      US     53.60   overcast clouds  43.21  -75.46   \n",
       "\n",
       "                                      Hotel Name  \n",
       "0  Bluff Homestead - Guesthouse & Campervan Park  \n",
       "1                                 Albatros Hotel  \n",
       "2                                  Ellie's Villa  \n",
       "3      ibis budget Nantes Ouest Atlantis Couëron  \n",
       "4                        Wingate By Wyndham Rome  "
      ]
     },
     "execution_count": 2,
     "metadata": {},
     "output_type": "execute_result"
    }
   ],
   "source": [
    "#Define home directory.\n",
    "cwd = Path(\"Vacation_Itinerary.ipynb\").parent\n",
    "home_dir = cwd.parent\n",
    "# Assumes that the file is in a directory on the desktop...\n",
    "root_path = str(home_dir.home()) + \"/Desktop\"\n",
    "\n",
    "# Create file name\n",
    "file_name = 'WeatherPy_vacation.csv'\n",
    "\n",
    "#Loop to walk through files to locate Vacation_Itinerary.ipynb\n",
    "for root, dirs, files in os.walk(root_path):\n",
    "    if file_name in files:\n",
    "        file_path = os.path.join(root,file_name)\n",
    "        \n",
    "#print(file_path)\n",
    "\n",
    "# 1. Read the WeatherPy_vacation.csv into a DataFrame.\n",
    "vacation_df = pd.read_csv(file_path)\n",
    "\n",
    "vacation_df.head()"
   ]
  },
  {
   "cell_type": "code",
   "execution_count": 3,
   "metadata": {},
   "outputs": [],
   "source": [
    "# 2. Using the template add the city name, the country code, the weather description and maximum temperature for the city.\n",
    "info_box_template = \"\"\"\n",
    "<dl>\n",
    "<dt>Hotel Name</dt><dd>{Hotel Name}</dd>\n",
    "<dt>City</dt><dd>{City}</dd>\n",
    "<dt>Country</dt><dd>{Country}</dd>\n",
    "<dt>Current Weather</dt><dd>{Description} and {Max Temp} °F</dd>\n",
    "</dl>\n",
    "\"\"\"\n",
    "\n",
    "# 3a. Get the data from each row and add it to the formatting template and store the data in a list.\n",
    "hotel_info = [info_box_template.format(**row) for index, row in vacation_df.iterrows()]\n",
    "\n",
    "# 3b. Get the latitude and longitude from each row and store in a new DataFrame.\n",
    "locations = vacation_df[[\"Lat\", \"Lng\"]]"
   ]
  },
  {
   "cell_type": "code",
   "execution_count": 4,
   "metadata": {
    "scrolled": false
   },
   "outputs": [
    {
     "data": {
      "application/vnd.jupyter.widget-view+json": {
       "model_id": "cdb54b8ccbe542779a4ef3a69146ed87",
       "version_major": 2,
       "version_minor": 0
      },
      "text/plain": [
       "Figure(layout=FigureLayout(height='420px'))"
      ]
     },
     "metadata": {},
     "output_type": "display_data"
    }
   ],
   "source": [
    "# 4a. Add a marker layer for each city to the map.\n",
    "locations = vacation_df[[\"Lat\", \"Lng\"]]\n",
    "fig = gmaps.figure(center=(30.0, 31.0), zoom_level=1.5)\n",
    "marker_layer = gmaps.marker_layer(locations, info_box_content=hotel_info)\n",
    "fig.add_layer(marker_layer)\n",
    "\n",
    "# 4b. Display the figure\n",
    "fig"
   ]
  },
  {
   "cell_type": "code",
   "execution_count": 5,
   "metadata": {},
   "outputs": [],
   "source": [
    "# From the map above pick 4 cities and create a vacation itinerary route to travel between the four cities. \n",
    "# 5. Create DataFrames for each city by filtering the 'vacation_df' using the loc method. \n",
    "# Hint: The starting and ending city should be the same city.\n",
    "\n",
    "vacation_start = vacation_df.loc[(vacation_df[\"City\"] == \"Half Moon Bay\") &\n",
    "                                (vacation_df[\"Country\"] == \"US\")]\n",
    "vacation_end = vacation_df.loc[(vacation_df[\"City\"] == \"Half Moon Bay\") &\n",
    "                                (vacation_df[\"Country\"] == \"US\")]\n",
    "vacation_stop1 = vacation_df.loc[(vacation_df[\"City\"] == \"Pacific Grove\") &\n",
    "                                (vacation_df[\"Country\"] == \"US\")]\n",
    "vacation_stop2 = vacation_df.loc[(vacation_df[\"City\"] == \"San Ramon\") &\n",
    "                                (vacation_df[\"Country\"] == \"US\")] \n",
    "vacation_stop3 = vacation_df.loc[(vacation_df[\"City\"] == \"Pacifica\") &\n",
    "                                (vacation_df[\"Country\"] == \"US\")]  "
   ]
  },
  {
   "cell_type": "code",
   "execution_count": 6,
   "metadata": {},
   "outputs": [],
   "source": [
    "# 6. Get the latitude-longitude pairs as tuples from each city DataFrame \n",
    "#using the to_numpy function and list indexing.\n",
    "\n",
    "start = vacation_start[['Lat','Lng']].to_numpy()\n",
    "start = tuple(start[0])\n",
    "\n",
    "end = vacation_end[['Lat','Lng']].to_numpy()\n",
    "end = tuple(end[0])\n",
    "\n",
    "stop1 = vacation_stop1[['Lat','Lng']].to_numpy()\n",
    "stop1 = tuple(stop1[0])\n",
    "\n",
    "stop2 = vacation_stop2[['Lat','Lng']].to_numpy()\n",
    "stop2 = tuple(stop2[0])\n",
    "\n",
    "stop3 = vacation_stop3[['Lat','Lng']].to_numpy()\n",
    "stop3 = tuple(stop3[0])\n"
   ]
  },
  {
   "cell_type": "code",
   "execution_count": 7,
   "metadata": {
    "scrolled": true
   },
   "outputs": [
    {
     "data": {
      "application/vnd.jupyter.widget-view+json": {
       "model_id": "5cef04b95e7d4a94b14800c101f3029d",
       "version_major": 2,
       "version_minor": 0
      },
      "text/plain": [
       "Figure(layout=FigureLayout(height='420px'))"
      ]
     },
     "metadata": {},
     "output_type": "display_data"
    }
   ],
   "source": [
    "# 7. Create a direction layer map using the start and end latitude-longitude pairs, and stop1, stop2, and stop3 as the waypoints. The travel_mode should be \"DRIVING\",\"BICYCLING\", or \"WALKING\".\n",
    "fig = gmaps.figure()\n",
    "waypoints = [stop1, stop2, stop3]\n",
    "dir_layer = gmaps.directions_layer(start, end, waypoints = waypoints, travel_mode = 'DRIVING')\n",
    "fig.add_layer(dir_layer)\n"
   ]
  },
  {
   "cell_type": "code",
   "execution_count": 20,
   "metadata": {},
   "outputs": [
    {
     "data": {
      "text/html": [
       "<div>\n",
       "<style scoped>\n",
       "    .dataframe tbody tr th:only-of-type {\n",
       "        vertical-align: middle;\n",
       "    }\n",
       "\n",
       "    .dataframe tbody tr th {\n",
       "        vertical-align: top;\n",
       "    }\n",
       "\n",
       "    .dataframe thead th {\n",
       "        text-align: right;\n",
       "    }\n",
       "</style>\n",
       "<table border=\"1\" class=\"dataframe\">\n",
       "  <thead>\n",
       "    <tr style=\"text-align: right;\">\n",
       "      <th></th>\n",
       "      <th>City_ID</th>\n",
       "      <th>City</th>\n",
       "      <th>Country</th>\n",
       "      <th>Max Temp</th>\n",
       "      <th>Description</th>\n",
       "      <th>Lat</th>\n",
       "      <th>Lng</th>\n",
       "      <th>Hotel Name</th>\n",
       "    </tr>\n",
       "  </thead>\n",
       "  <tbody>\n",
       "    <tr>\n",
       "      <th>0</th>\n",
       "      <td>618</td>\n",
       "      <td>Half Moon Bay</td>\n",
       "      <td>US</td>\n",
       "      <td>53.60</td>\n",
       "      <td>clear sky</td>\n",
       "      <td>37.46</td>\n",
       "      <td>-122.43</td>\n",
       "      <td>The Ritz-Carlton, Half Moon Bay</td>\n",
       "    </tr>\n",
       "    <tr>\n",
       "      <th>1</th>\n",
       "      <td>385</td>\n",
       "      <td>Pacific Grove</td>\n",
       "      <td>US</td>\n",
       "      <td>53.01</td>\n",
       "      <td>broken clouds</td>\n",
       "      <td>36.62</td>\n",
       "      <td>-121.92</td>\n",
       "      <td>Lovers Point Inn</td>\n",
       "    </tr>\n",
       "    <tr>\n",
       "      <th>2</th>\n",
       "      <td>408</td>\n",
       "      <td>San Ramon</td>\n",
       "      <td>US</td>\n",
       "      <td>51.01</td>\n",
       "      <td>clear sky</td>\n",
       "      <td>37.78</td>\n",
       "      <td>-121.98</td>\n",
       "      <td>San Ramon Marriott</td>\n",
       "    </tr>\n",
       "    <tr>\n",
       "      <th>3</th>\n",
       "      <td>88</td>\n",
       "      <td>Pacifica</td>\n",
       "      <td>US</td>\n",
       "      <td>53.60</td>\n",
       "      <td>broken clouds</td>\n",
       "      <td>37.61</td>\n",
       "      <td>-122.49</td>\n",
       "      <td>Pacifica Lighthouse, Trademark Collection by W...</td>\n",
       "    </tr>\n",
       "    <tr>\n",
       "      <th>4</th>\n",
       "      <td>618</td>\n",
       "      <td>Half Moon Bay</td>\n",
       "      <td>US</td>\n",
       "      <td>53.60</td>\n",
       "      <td>clear sky</td>\n",
       "      <td>37.46</td>\n",
       "      <td>-122.43</td>\n",
       "      <td>The Ritz-Carlton, Half Moon Bay</td>\n",
       "    </tr>\n",
       "  </tbody>\n",
       "</table>\n",
       "</div>"
      ],
      "text/plain": [
       "   City_ID           City Country  Max Temp    Description    Lat     Lng  \\\n",
       "0      618  Half Moon Bay      US     53.60      clear sky  37.46 -122.43   \n",
       "1      385  Pacific Grove      US     53.01  broken clouds  36.62 -121.92   \n",
       "2      408      San Ramon      US     51.01      clear sky  37.78 -121.98   \n",
       "3       88       Pacifica      US     53.60  broken clouds  37.61 -122.49   \n",
       "4      618  Half Moon Bay      US     53.60      clear sky  37.46 -122.43   \n",
       "\n",
       "                                          Hotel Name  \n",
       "0                    The Ritz-Carlton, Half Moon Bay  \n",
       "1                                   Lovers Point Inn  \n",
       "2                                 San Ramon Marriott  \n",
       "3  Pacifica Lighthouse, Trademark Collection by W...  \n",
       "4                    The Ritz-Carlton, Half Moon Bay  "
      ]
     },
     "execution_count": 20,
     "metadata": {},
     "output_type": "execute_result"
    }
   ],
   "source": [
    "# 8. To create a marker layer map between the four cities.\n",
    "#  Combine the four city DataFrames into one DataFrame using the concat() function.\n",
    "itinerary_df = pd.concat([vacation_start, vacation_stop1, vacation_stop2, vacation_stop3, vacation_end],ignore_index=True)\n",
    "itinerary_df"
   ]
  },
  {
   "cell_type": "code",
   "execution_count": 26,
   "metadata": {},
   "outputs": [],
   "source": [
    "# 9 Using the template add city name, the country code, the weather description and maximum temperature for the city. \n",
    "info_box_template = \"\"\"\n",
    "<dl>\n",
    "<dt>Hotel Name</dt><dd>{Hotel Name}</dd>\n",
    "<dt>City</dt><dd>{City}</dd>\n",
    "<dt>Country</dt><dd>{Country}</dd>\n",
    "<dt>Current Weather</dt><dd>{Description} and {Max Temp} °F</dd>\n",
    "</dl>\n",
    "\"\"\"\n",
    "\n",
    "# 10a Get the data from each row and add it to the formatting template and store the data in a list.\n",
    "hotel_info = [info_box_template.format(**row) for index, row in itinerary_df.iterrows()]\n",
    "\n",
    "# 10b. Get the latitude and longitude from each row and store in a new DataFrame.\n",
    "locations = itinerary_df[[\"Lat\", \"Lng\"]]"
   ]
  },
  {
   "cell_type": "code",
   "execution_count": 34,
   "metadata": {},
   "outputs": [
    {
     "data": {
      "application/vnd.jupyter.widget-view+json": {
       "model_id": "050b2f28c33b4606a7f26363f3327e94",
       "version_major": 2,
       "version_minor": 0
      },
      "text/plain": [
       "Figure(layout=FigureLayout(height='420px'))"
      ]
     },
     "metadata": {},
     "output_type": "display_data"
    }
   ],
   "source": [
    "# 11a. Add a marker layer for each city to the map.\n",
    "locations = itinerary_df[[\"Lat\", \"Lng\"]]\n",
    "fig = gmaps.figure(center=(37.33, -121.88), zoom_level=8)\n",
    "marker_layer = gmaps.marker_layer(locations, info_box_content=hotel_info)\n",
    "fig.add_layer(marker_layer)\n",
    "\n",
    "# 11b. Display the figure\n",
    "fig"
   ]
  },
  {
   "cell_type": "code",
   "execution_count": null,
   "metadata": {},
   "outputs": [],
   "source": []
  }
 ],
 "metadata": {
  "kernelspec": {
   "display_name": "PythonData",
   "language": "python",
   "name": "pythondata"
  },
  "language_info": {
   "codemirror_mode": {
    "name": "ipython",
    "version": 3
   },
   "file_extension": ".py",
   "mimetype": "text/x-python",
   "name": "python",
   "nbconvert_exporter": "python",
   "pygments_lexer": "ipython3",
   "version": "3.8.3"
  },
  "latex_envs": {
   "LaTeX_envs_menu_present": true,
   "autoclose": false,
   "autocomplete": true,
   "bibliofile": "biblio.bib",
   "cite_by": "apalike",
   "current_citInitial": 1,
   "eqLabelWithNumbers": true,
   "eqNumInitial": 1,
   "hotkeys": {
    "equation": "Ctrl-E",
    "itemize": "Ctrl-I"
   },
   "labels_anchors": false,
   "latex_user_defs": false,
   "report_style_numbering": false,
   "user_envs_cfg": false
  }
 },
 "nbformat": 4,
 "nbformat_minor": 2
}
