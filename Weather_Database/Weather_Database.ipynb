{
 "cells": [
  {
   "cell_type": "code",
   "execution_count": null,
   "metadata": {},
   "outputs": [],
   "source": [
    "#Import dependencies\n",
    "import pandas as pd\n",
    "import matplotlib.pyplot as plt\n",
    "import numpy as np\n",
    "import os\n",
    "\n",
    "#Import requests library\n",
    "import requests\n",
    "\n",
    "#Use citipy module to determine city based on latitude and longitude\n",
    "from citipy import citipy\n",
    "\n",
    "#Import datetime module from datetime library\n",
    "from datetime import datetime\n",
    "\n",
    "#Import API key\n",
    "from config import weather_api_key"
   ]
  },
  {
   "cell_type": "code",
   "execution_count": null,
   "metadata": {},
   "outputs": [],
   "source": [
    "#Create a set of random latitude and longitude combinations\n",
    "lat = np.random.uniform(low=-90.000, high=90.000, size=2000)\n",
    "lng = np.random.uniform(low=-180.000, high=180.000, size=2000)\n",
    "lat_lng = zip(lat, lng)\n",
    "lat_lng"
   ]
  },
  {
   "cell_type": "code",
   "execution_count": null,
   "metadata": {},
   "outputs": [],
   "source": [
    "#Add latitudes and longitudes to new list\n",
    "coords = list(lat_lng)"
   ]
  },
  {
   "cell_type": "code",
   "execution_count": null,
   "metadata": {
    "jupyter": {
     "outputs_hidden": true
    }
   },
   "outputs": [],
   "source": [
    "#Review latitude and longitude combinations\n",
    "for coord in coords:\n",
    "    print(citipy.nearest_city(coord[0], coord[1]).city_name,\n",
    "          citipy.nearest_city(coord[0], coord[1]).country_code)"
   ]
  },
  {
   "cell_type": "code",
   "execution_count": null,
   "metadata": {},
   "outputs": [],
   "source": [
    "#Create list for cities\n",
    "cities_list = []\n",
    "\n",
    "#Locate nearest city for each latitude and longitude combination\n",
    "for coord in coords:\n",
    "    city = citipy.nearest_city(coord[0], coord[1]).city_name\n",
    "\n",
    "    #If city is unique, then we will add it to the cities list\n",
    "    if city not in cities_list:\n",
    "        cities_list.append(city)\n",
    "\n",
    "#Print the city count\n",
    "len(cities_list)"
   ]
  },
  {
   "cell_type": "code",
   "execution_count": null,
   "metadata": {},
   "outputs": [],
   "source": [
    "#Develop URL for Weather Map API Call\n",
    "map_url = \"http://api.openweathermap.org/data/2.5/weather?units=Imperial&APPID=\" + weather_api_key\n",
    "\n",
    "#Print map_url to verify\n",
    "map_url"
   ]
  },
  {
   "cell_type": "code",
   "execution_count": null,
   "metadata": {
    "jupyter": {
     "outputs_hidden": true
    }
   },
   "outputs": [],
   "source": [
    "#Create new list and dictionary to hold the weather data\n",
    "city_data = []\n",
    "city_weather_data = {}\n",
    "\n",
    "#Print beginning of logging.\n",
    "print(\"Beginning Data Retrieval     \")\n",
    "print(\"-----------------------------\")\n",
    "\n",
    "#Create and set counters\n",
    "city_record_count = 1\n",
    "city_set_count = 1\n",
    "\n",
    "#Loop through all cities in list\n",
    "for i, city in enumerate(cities_list):\n",
    "\n",
    "    #Group cities in sets of 50 for logging purposes\n",
    "    if (i % 50 == 0 and i >= 50):\n",
    "        city_set_count += 1\n",
    "        city_record_count = 1\n",
    "        \n",
    "    #Create endpoint URL with each city\n",
    "    city_url = map_url + \"&q=\" + city.replace(\" \",\"+\")\n",
    "\n",
    "    #Log URL, record, set numbers, and city\n",
    "    print(f\"Processing Record {city_record_count} of Set {city_set_count} | {city}\")\n",
    "    \n",
    "    #Add 1 to the record count\n",
    "    city_record_count += 1\n",
    "\n",
    "#Run API request for each city\n",
    "    try:\n",
    "        #Parse JSON and retrieve data   \n",
    "        city_weather_data = requests.get(city_url).json()\n",
    "        \n",
    "        #Parse out needed data\n",
    "        city_lat = city_weather_data[\"coord\"][\"lat\"]\n",
    "        city_lng = city_weather_data[\"coord\"][\"lon\"]\n",
    "        city_max_temp = city_weather_data[\"main\"][\"temp_max\"]\n",
    "        city_descr = city_weather_data[\"weather\"][0][\"description\"]\n",
    "        city_humidity = city_weather_data[\"main\"][\"humidity\"]\n",
    "        city_clouds = city_weather_data[\"clouds\"][\"all\"]\n",
    "        city_wind = city_weather_data[\"wind\"][\"speed\"]\n",
    "        city_country = city_weather_data[\"sys\"][\"country\"]\n",
    "       \n",
    "        #Convert date to ISO standard\n",
    "        city_date = datetime.utcfromtimestamp(city_weather_data[\"dt\"]).strftime('%Y-%m-%d %H:%M:%S')\n",
    "        \n",
    "        #Append city information into city_data list\n",
    "        city_data.append({\"City\": city.title(),\n",
    "                          \"Lat\": city_lat,\n",
    "                          \"Lng\": city_lng,\n",
    "                          \"Max Temp\": city_max_temp,\n",
    "                          \"Description\": city_descr,\n",
    "                          \"Humidity\": city_humidity,\n",
    "                          \"Cloudiness\": city_clouds,\n",
    "                          \"Wind Speed\": city_wind,\n",
    "                          \"Country\": city_country,\n",
    "                          \"Date\": city_date})\n",
    "\n",
    "#If error occurs, skip city\n",
    "    except:\n",
    "        print(\"City not found. Skipping...\")\n",
    "        pass\n",
    "\n",
    "# Indicate Data Loading is complete\n",
    "print(\"-----------------------------\")\n",
    "print(\"Data Retrieval Complete      \")\n",
    "print(\"-----------------------------\")"
   ]
  },
  {
   "cell_type": "code",
   "execution_count": null,
   "metadata": {},
   "outputs": [],
   "source": [
    "#Convert array of dictionaries to DataFrame\n",
    "city_data_df = pd.DataFrame(city_data)\n",
    "\n",
    "#Preview DataFrame\n",
    "city_data_df.head(10)"
   ]
  },
  {
   "cell_type": "code",
   "execution_count": null,
   "metadata": {},
   "outputs": [],
   "source": [
    "#Reorder columns in DataFrame\n",
    "city_data_order = ['City', 'Country', 'Date', 'Lat', 'Lng', 'Description', 'Max Temp', \n",
    "                       'Humidity', 'Cloudiness', 'Wind Speed']\n",
    "#Reassign reordered DataFrame to city_data DataFrame\n",
    "city_data_df = city_data_df[city_data_order]\n",
    "\n",
    "#Preview reordered DataFrame\n",
    "city_data_df.head(10)"
   ]
  },
  {
   "cell_type": "code",
   "execution_count": null,
   "metadata": {},
   "outputs": [],
   "source": [
    "#Create the output file (CSV)\n",
    "output_file = \"WeatherPy_Database_test.csv\""
   ]
  },
  {
   "cell_type": "code",
   "execution_count": null,
   "metadata": {},
   "outputs": [],
   "source": [
    "#Export the City_Data into CSV\n",
    "city_data_df.to_csv(output_file, index_label=\"City_ID\")"
   ]
  }
 ],
 "metadata": {
  "kernelspec": {
   "display_name": "PythonData",
   "language": "python",
   "name": "pythondata"
  },
  "language_info": {
   "codemirror_mode": {
    "name": "ipython",
    "version": 3
   },
   "file_extension": ".py",
   "mimetype": "text/x-python",
   "name": "python",
   "nbconvert_exporter": "python",
   "pygments_lexer": "ipython3",
   "version": "3.8.3"
  }
 },
 "nbformat": 4,
 "nbformat_minor": 4
}
